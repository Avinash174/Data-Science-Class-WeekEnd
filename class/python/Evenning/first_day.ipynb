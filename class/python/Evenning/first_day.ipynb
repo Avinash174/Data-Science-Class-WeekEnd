{
 "cells": [
  {
   "cell_type": "code",
   "execution_count": null,
   "metadata": {},
   "outputs": [
    {
     "name": "stdout",
     "output_type": "stream",
     "text": [
      "Good Afternoon Soham!\n"
     ]
    }
   ],
   "source": [
    "name=input(\"Enter a name\")\n",
    "print(f\"Good Afternoon {name}!\")\n"
   ]
  },
  {
   "cell_type": "code",
   "execution_count": null,
   "metadata": {},
   "outputs": [],
   "source": [
    "#lettter = Dear <| name|>\n",
    "#Your are selected!\n",
    "#<|Date|>"
   ]
  },
  {
   "cell_type": "code",
   "execution_count": 4,
   "metadata": {},
   "outputs": [],
   "source": [
    "Letter='''dear <|name|>,\n",
    "youre selected!\n",
    "<|data|>'''"
   ]
  },
  {
   "cell_type": "code",
   "execution_count": null,
   "metadata": {},
   "outputs": [],
   "source": [
    "#print(Letter.replace(\"<|name|>,\"Rohan\").replace(\"<|date|>\",\"4 Dec 2024\"))))"
   ]
  },
  {
   "cell_type": "code",
   "execution_count": 15,
   "metadata": {},
   "outputs": [
    {
     "name": "stdout",
     "output_type": "stream",
     "text": [
      "7\n"
     ]
    }
   ],
   "source": [
    "a=\"Avinash  \"\n",
    "print(a.find(\"  \"))"
   ]
  },
  {
   "cell_type": "code",
   "execution_count": null,
   "metadata": {},
   "outputs": [
    {
     "name": "stdout",
     "output_type": "stream",
     "text": [
      "7\n"
     ]
    }
   ],
   "source": [
    "a.replace(\"  \",\" \")\n",
    "\n",
    "print(a.find(\" \"))"
   ]
  },
  {
   "cell_type": "code",
   "execution_count": 16,
   "metadata": {},
   "outputs": [],
   "source": [
    "# List & Tuples"
   ]
  },
  {
   "cell_type": "code",
   "execution_count": 18,
   "metadata": {},
   "outputs": [
    {
     "name": "stdout",
     "output_type": "stream",
     "text": [
      "['hello', 'apple', '1', 'graphes', 'hello']\n"
     ]
    }
   ],
   "source": [
    "fruits=[\"apple\",\"1\",\"graphes\",\"hello\"]\n",
    "fruits.insert(0,\"hello\")\n",
    "print(fruits)"
   ]
  },
  {
   "cell_type": "code",
   "execution_count": 20,
   "metadata": {},
   "outputs": [
    {
     "name": "stdout",
     "output_type": "stream",
     "text": [
      "['avinash', 'avinash', 'hello', 'apple', '1', 'graphes', 'hello']\n"
     ]
    }
   ],
   "source": [
    "fruits.insert(0,\"avinash\")\n",
    "print(fruits)"
   ]
  },
  {
   "cell_type": "code",
   "execution_count": 22,
   "metadata": {},
   "outputs": [
    {
     "name": "stdout",
     "output_type": "stream",
     "text": [
      "['hi', 'avinash', 'hello', 'apple', '1', 'graphes', 'hello']\n"
     ]
    }
   ],
   "source": [
    "fruits[0]=\"hi\" #replace index value\n",
    "print(fruits)"
   ]
  },
  {
   "cell_type": "code",
   "execution_count": 24,
   "metadata": {},
   "outputs": [
    {
     "name": "stdout",
     "output_type": "stream",
     "text": [
      "<built-in method index of list object at 0x109870f00>\n"
     ]
    }
   ],
   "source": [
    "print(fruits.index)"
   ]
  }
 ],
 "metadata": {
  "kernelspec": {
   "display_name": "base",
   "language": "python",
   "name": "python3"
  },
  "language_info": {
   "codemirror_mode": {
    "name": "ipython",
    "version": 3
   },
   "file_extension": ".py",
   "mimetype": "text/x-python",
   "name": "python",
   "nbconvert_exporter": "python",
   "pygments_lexer": "ipython3",
   "version": "3.12.4"
  }
 },
 "nbformat": 4,
 "nbformat_minor": 2
}
