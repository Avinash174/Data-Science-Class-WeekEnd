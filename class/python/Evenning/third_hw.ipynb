{
 "cells": [
  {
   "cell_type": "code",
   "execution_count": null,
   "metadata": {},
   "outputs": [],
   "source": [
    "#sixth programme"
   ]
  },
  {
   "cell_type": "code",
   "execution_count": 7,
   "metadata": {},
   "outputs": [
    {
     "name": "stdout",
     "output_type": "stream",
     "text": [
      "F\n"
     ]
    }
   ],
   "source": [
    "a=int(input(\"Enter A Grade Number\"))\n",
    "if(a>90 and a>100):\n",
    "    print(\"Ex\")\n",
    "elif(a>80 and a>90):\n",
    "    print(\"A\")\n",
    "elif(a>70 and a>60):\n",
    "    print(\"B\")\n",
    "elif(a>50 and a>40):\n",
    "    print(\"C\")\n",
    "else:\n",
    "    print(\"F\")"
   ]
  },
  {
   "cell_type": "code",
   "execution_count": 10,
   "metadata": {},
   "outputs": [
    {
     "name": "stdout",
     "output_type": "stream",
     "text": [
      "1 is  present\n"
     ]
    }
   ],
   "source": [
    "# Fifth Question\n",
    "a=[1,2,3,4,5]\n",
    "if 1 in a:\n",
    "    print(\"1 is  present\")"
   ]
  },
  {
   "cell_type": "code",
   "execution_count": 11,
   "metadata": {},
   "outputs": [
    {
     "name": "stdout",
     "output_type": "stream",
     "text": [
      "username is less than 10\n"
     ]
    }
   ],
   "source": [
    "username=input(\"Enter username\")\n",
    "if len(username)<10:\n",
    "    print(\"username is less than 10\")\n",
    "else:\n",
    "    print(\"username is equal or more 10\")"
   ]
  }
 ],
 "metadata": {
  "kernelspec": {
   "display_name": "base",
   "language": "python",
   "name": "python3"
  },
  "language_info": {
   "codemirror_mode": {
    "name": "ipython",
    "version": 3
   },
   "file_extension": ".py",
   "mimetype": "text/x-python",
   "name": "python",
   "nbconvert_exporter": "python",
   "pygments_lexer": "ipython3",
   "version": "3.12.4"
  }
 },
 "nbformat": 4,
 "nbformat_minor": 2
}
