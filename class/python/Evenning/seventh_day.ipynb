{
 "cells": [
  {
   "cell_type": "code",
   "execution_count": 6,
   "metadata": {},
   "outputs": [
    {
     "name": "stdout",
     "output_type": "stream",
     "text": [
      "15\n"
     ]
    }
   ],
   "source": [
    "# natural number\n",
    "def sum(n):\n",
    "    if n==1:\n",
    "        return 1\n",
    "    return sum(n-1)+n\n",
    "n=int(input(\"Enter number\"))\n",
    "print(sum(n))"
   ]
  },
  {
   "cell_type": "code",
   "execution_count": 11,
   "metadata": {},
   "outputs": [
    {
     "name": "stdout",
     "output_type": "stream",
     "text": [
      "****\n",
      "***\n",
      "**\n",
      "*\n"
     ]
    }
   ],
   "source": [
    "def pattern(n):\n",
    "    if n == 0:\n",
    "        return\n",
    "    print(\"*\" * n)\n",
    "    pattern(n - 1)\n",
    "n = int(input(\"Enter Number: \"))\n",
    "pattern(n)\n"
   ]
  },
  {
   "cell_type": "code",
   "execution_count": 13,
   "metadata": {},
   "outputs": [
    {
     "name": "stdout",
     "output_type": "stream",
     "text": [
      "45.0 inches is equal to 114.30 cm.\n"
     ]
    }
   ],
   "source": [
    "# inch to cm\n",
    "\n",
    "def inches_to_cm(inches):\n",
    "    return inches * 2.54\n",
    "inches = float(input(\"Enter the length in inches: \"))\n",
    "print(f\"{inches} inches is equal to {inches_to_cm(inches):.2f} cm.\")\n"
   ]
  },
  {
   "cell_type": "code",
   "execution_count": 20,
   "metadata": {},
   "outputs": [
    {
     "name": "stdout",
     "output_type": "stream",
     "text": [
      "['Avinsh', 'ssh', '']\n"
     ]
    }
   ],
   "source": [
    "#add & remove\n",
    "\n",
    "def listAddRemove(l,word):\n",
    "     n=[]\n",
    "     for item in l:\n",
    "          if not (item==word):\n",
    "               n.append(item.strip(word))\n",
    "            \n",
    "     return n\n",
    "l=[\"Avinsh\",\"ssh\",\"ann\"]\n",
    "print(listAddRemove(l,\"an\"))\n"
   ]
  }
 ],
 "metadata": {
  "kernelspec": {
   "display_name": "base",
   "language": "python",
   "name": "python3"
  },
  "language_info": {
   "codemirror_mode": {
    "name": "ipython",
    "version": 3
   },
   "file_extension": ".py",
   "mimetype": "text/x-python",
   "name": "python",
   "nbconvert_exporter": "python",
   "pygments_lexer": "ipython3",
   "version": "3.12.4"
  }
 },
 "nbformat": 4,
 "nbformat_minor": 2
}
